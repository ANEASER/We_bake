{
 "cells": [
  {
   "cell_type": "code",
   "execution_count": 1,
   "metadata": {},
   "outputs": [
    {
     "name": "stderr",
     "output_type": "stream",
     "text": [
      "2024-05-09 13:35:30.692146: I tensorflow/core/util/port.cc:113] oneDNN custom operations are on. You may see slightly different numerical results due to floating-point round-off errors from different computation orders. To turn them off, set the environment variable `TF_ENABLE_ONEDNN_OPTS=0`.\n",
      "2024-05-09 13:35:30.963255: E external/local_xla/xla/stream_executor/cuda/cuda_dnn.cc:9261] Unable to register cuDNN factory: Attempting to register factory for plugin cuDNN when one has already been registered\n",
      "2024-05-09 13:35:30.963290: E external/local_xla/xla/stream_executor/cuda/cuda_fft.cc:607] Unable to register cuFFT factory: Attempting to register factory for plugin cuFFT when one has already been registered\n",
      "2024-05-09 13:35:31.013478: E external/local_xla/xla/stream_executor/cuda/cuda_blas.cc:1515] Unable to register cuBLAS factory: Attempting to register factory for plugin cuBLAS when one has already been registered\n",
      "2024-05-09 13:35:31.103895: I tensorflow/core/platform/cpu_feature_guard.cc:182] This TensorFlow binary is optimized to use available CPU instructions in performance-critical operations.\n",
      "To enable the following instructions: AVX2 AVX_VNNI FMA, in other operations, rebuild TensorFlow with the appropriate compiler flags.\n",
      "2024-05-09 13:35:32.163420: W tensorflow/compiler/tf2tensorrt/utils/py_utils.cc:38] TF-TRT Warning: Could not find TensorRT\n"
     ]
    }
   ],
   "source": [
    "import pandas as pd\n",
    "import numpy as np\n",
    "import matplotlib.pyplot as plt\n",
    "import seaborn as sns\n",
    "from sklearn.model_selection import train_test_split\n",
    "from sklearn.preprocessing import LabelEncoder\n",
    "from keras.preprocessing.text import Tokenizer\n",
    "from keras.utils import pad_sequences\n",
    "from keras.models import Sequential\n",
    "from keras.layers import Embedding, LSTM, Dense, Dropout\n",
    "from sklearn.metrics import classification_report, confusion_matrix"
   ]
  },
  {
   "cell_type": "code",
   "execution_count": 11,
   "metadata": {},
   "outputs": [
    {
     "name": "stderr",
     "output_type": "stream",
     "text": [
      "/tmp/ipykernel_17138/695249325.py:1: ParserWarning: Falling back to the 'python' engine because the 'c' engine does not support regex separators (separators > 1 char and different from '\\s+' are interpreted as regex); you can avoid this warning by specifying engine='python'.\n",
      "  data = pd.read_csv('sentiment-analysis.csv',sep=', ')\n"
     ]
    },
    {
     "data": {
      "text/html": [
       "<div>\n",
       "<style scoped>\n",
       "    .dataframe tbody tr th:only-of-type {\n",
       "        vertical-align: middle;\n",
       "    }\n",
       "\n",
       "    .dataframe tbody tr th {\n",
       "        vertical-align: top;\n",
       "    }\n",
       "\n",
       "    .dataframe thead th {\n",
       "        text-align: right;\n",
       "    }\n",
       "</style>\n",
       "<table border=\"1\" class=\"dataframe\">\n",
       "  <thead>\n",
       "    <tr style=\"text-align: right;\">\n",
       "      <th></th>\n",
       "      <th>Text</th>\n",
       "      <th>Sentiment</th>\n",
       "      <th>Source</th>\n",
       "      <th>Date/Time</th>\n",
       "      <th>User ID</th>\n",
       "      <th>Location</th>\n",
       "      <th>Confidence Score</th>\n",
       "    </tr>\n",
       "  </thead>\n",
       "  <tbody>\n",
       "    <tr>\n",
       "      <th>0</th>\n",
       "      <td>\"\"\"I love this product!\"\"</td>\n",
       "      <td>Positive</td>\n",
       "      <td>Twitter</td>\n",
       "      <td>2023-06-15 09:23:14</td>\n",
       "      <td>@user123</td>\n",
       "      <td>New York</td>\n",
       "      <td>0.85\"</td>\n",
       "    </tr>\n",
       "    <tr>\n",
       "      <th>1</th>\n",
       "      <td>\"\"\"The service was terrible.\"\"</td>\n",
       "      <td>Negative</td>\n",
       "      <td>Yelp Reviews</td>\n",
       "      <td>2023-06-15 11:45:32</td>\n",
       "      <td>user456</td>\n",
       "      <td>Los Angeles</td>\n",
       "      <td>0.65\"</td>\n",
       "    </tr>\n",
       "    <tr>\n",
       "      <th>2</th>\n",
       "      <td>\"\"\"This movie is amazing!\"\"</td>\n",
       "      <td>Positive</td>\n",
       "      <td>IMDb</td>\n",
       "      <td>2023-06-15 14:10:22</td>\n",
       "      <td>moviefan789</td>\n",
       "      <td>London</td>\n",
       "      <td>0.92\"</td>\n",
       "    </tr>\n",
       "    <tr>\n",
       "      <th>3</th>\n",
       "      <td>\"\"\"I'm so disappointed with their customer sup...</td>\n",
       "      <td>Negative</td>\n",
       "      <td>Online Forum</td>\n",
       "      <td>2023-06-15 17:35:11</td>\n",
       "      <td>forumuser1</td>\n",
       "      <td>Toronto</td>\n",
       "      <td>0.78\"</td>\n",
       "    </tr>\n",
       "    <tr>\n",
       "      <th>4</th>\n",
       "      <td>\"\"\"Just had the best meal of my life!\"\"</td>\n",
       "      <td>Positive</td>\n",
       "      <td>TripAdvisor</td>\n",
       "      <td>2023-06-16 08:50:59</td>\n",
       "      <td>foodie22</td>\n",
       "      <td>Paris</td>\n",
       "      <td>0.88\"</td>\n",
       "    </tr>\n",
       "  </tbody>\n",
       "</table>\n",
       "</div>"
      ],
      "text/plain": [
       "                                                Text Sentiment        Source  \\\n",
       "0                          \"\"\"I love this product!\"\"  Positive       Twitter   \n",
       "1                     \"\"\"The service was terrible.\"\"  Negative  Yelp Reviews   \n",
       "2                        \"\"\"This movie is amazing!\"\"  Positive          IMDb   \n",
       "3  \"\"\"I'm so disappointed with their customer sup...  Negative  Online Forum   \n",
       "4            \"\"\"Just had the best meal of my life!\"\"  Positive   TripAdvisor   \n",
       "\n",
       "             Date/Time      User ID     Location Confidence Score  \n",
       "0  2023-06-15 09:23:14     @user123     New York            0.85\"  \n",
       "1  2023-06-15 11:45:32      user456  Los Angeles            0.65\"  \n",
       "2  2023-06-15 14:10:22  moviefan789       London            0.92\"  \n",
       "3  2023-06-15 17:35:11   forumuser1      Toronto            0.78\"  \n",
       "4  2023-06-16 08:50:59     foodie22        Paris            0.88\"  "
      ]
     },
     "execution_count": 11,
     "metadata": {},
     "output_type": "execute_result"
    }
   ],
   "source": [
    "data = pd.read_csv('sentiment-analysis.csv',sep=', ')\n",
    "data.columns = data.columns.str.replace('\"', '')\n",
    "data = data.dropna() \n",
    "data['Text'] = data['Text'].astype(str)\n",
    "data.head()"
   ]
  },
  {
   "cell_type": "code",
   "execution_count": 12,
   "metadata": {},
   "outputs": [],
   "source": [
    "le = LabelEncoder()\n",
    "data['Sentiment_encoded'] = le.fit_transform(data['Sentiment'])"
   ]
  },
  {
   "cell_type": "code",
   "execution_count": 13,
   "metadata": {},
   "outputs": [],
   "source": [
    "X = data['Text']\n",
    "y = data['Sentiment_encoded']"
   ]
  },
  {
   "cell_type": "code",
   "execution_count": 14,
   "metadata": {},
   "outputs": [],
   "source": [
    "X_train, X_test, y_train, y_test = train_test_split(X, y, test_size=0.2, random_state=42)\n",
    "\n",
    "max_words = 10000  # Maximum number of words in your vocabulary\n",
    "max_len = 512  # Maximum length of input sequences\n",
    "\n",
    "tokenizer = Tokenizer(num_words=max_words)\n",
    "tokenizer.fit_on_texts(X_train)"
   ]
  },
  {
   "cell_type": "code",
   "execution_count": 15,
   "metadata": {},
   "outputs": [],
   "source": [
    "X_train_seq = tokenizer.texts_to_sequences(X_train)\n",
    "X_test_seq = tokenizer.texts_to_sequences(X_test)\n",
    "\n",
    "X_train_pad = pad_sequences(X_train_seq, maxlen=max_len)\n",
    "X_test_pad = pad_sequences(X_test_seq, maxlen=max_len)\n"
   ]
  },
  {
   "cell_type": "code",
   "execution_count": 17,
   "metadata": {},
   "outputs": [
    {
     "name": "stdout",
     "output_type": "stream",
     "text": [
      "WARNING:tensorflow:Layer lstm_1 will not use cuDNN kernels since it doesn't meet the criteria. It will use a generic GPU kernel as fallback when running on GPU.\n"
     ]
    },
    {
     "name": "stdout",
     "output_type": "stream",
     "text": [
      "Epoch 1/25\n"
     ]
    },
    {
     "name": "stderr",
     "output_type": "stream",
     "text": [
      "2024-05-09 13:47:49.779114: I external/local_xla/xla/service/service.cc:168] XLA service 0x7fc80fcdc550 initialized for platform CUDA (this does not guarantee that XLA will be used). Devices:\n",
      "2024-05-09 13:47:49.779147: I external/local_xla/xla/service/service.cc:176]   StreamExecutor device (0): NVIDIA GeForce RTX 4050 Laptop GPU, Compute Capability 8.9\n",
      "2024-05-09 13:47:49.794455: I tensorflow/compiler/mlir/tensorflow/utils/dump_mlir_util.cc:269] disabling MLIR crash reproducer, set env var `MLIR_CRASH_REPRODUCER_DIRECTORY` to enable.\n",
      "2024-05-09 13:47:50.214721: I external/local_xla/xla/stream_executor/cuda/cuda_dnn.cc:454] Loaded cuDNN version 8904\n",
      "WARNING: All log messages before absl::InitializeLog() is called are written to STDERR\n",
      "I0000 00:00:1715242670.287842   22117 device_compiler.h:186] Compiled cluster using XLA!  This line is logged at most once for the lifetime of the process.\n"
     ]
    },
    {
     "name": "stdout",
     "output_type": "stream",
     "text": [
      "5/5 [==============================] - 17s 3s/step - loss: 0.6921 - accuracy: 0.5395\n",
      "Epoch 2/25\n",
      "5/5 [==============================] - 14s 3s/step - loss: 0.6878 - accuracy: 0.6316\n",
      "Epoch 3/25\n",
      "5/5 [==============================] - 13s 3s/step - loss: 0.6452 - accuracy: 0.8421\n",
      "Epoch 4/25\n",
      "5/5 [==============================] - 14s 3s/step - loss: 0.5839 - accuracy: 0.8684\n",
      "Epoch 5/25\n",
      "5/5 [==============================] - 12s 2s/step - loss: 2.1349 - accuracy: 0.6842\n",
      "Epoch 6/25\n",
      "5/5 [==============================] - 14s 3s/step - loss: 4.9732 - accuracy: 0.5000\n",
      "Epoch 7/25\n",
      "5/5 [==============================] - 14s 3s/step - loss: 2.4740 - accuracy: 0.5000\n",
      "Epoch 8/25\n",
      "5/5 [==============================] - 14s 3s/step - loss: 1.2372 - accuracy: 0.3816\n",
      "Epoch 9/25\n",
      "5/5 [==============================] - 14s 3s/step - loss: 0.7917 - accuracy: 0.5000\n",
      "Epoch 10/25\n",
      "5/5 [==============================] - 14s 3s/step - loss: 0.7065 - accuracy: 0.5000\n",
      "Epoch 11/25\n",
      "5/5 [==============================] - 13s 3s/step - loss: 0.6466 - accuracy: 0.7763\n",
      "Epoch 12/25\n",
      "5/5 [==============================] - 14s 3s/step - loss: 0.6618 - accuracy: 0.5263\n",
      "Epoch 13/25\n",
      "5/5 [==============================] - 14s 3s/step - loss: 0.6582 - accuracy: 0.5000\n",
      "Epoch 14/25\n",
      "5/5 [==============================] - 14s 3s/step - loss: 0.6480 - accuracy: 0.6974\n",
      "Epoch 15/25\n",
      "5/5 [==============================] - 13s 3s/step - loss: 0.6212 - accuracy: 0.9868\n",
      "Epoch 16/25\n",
      "5/5 [==============================] - 13s 3s/step - loss: 0.6115 - accuracy: 0.9079\n",
      "Epoch 17/25\n",
      "5/5 [==============================] - 13s 3s/step - loss: 0.5845 - accuracy: 0.9605\n",
      "Epoch 18/25\n",
      "5/5 [==============================] - 13s 3s/step - loss: 0.5497 - accuracy: 0.9737\n",
      "Epoch 19/25\n",
      "5/5 [==============================] - 13s 3s/step - loss: 0.5342 - accuracy: 0.9868\n",
      "Epoch 20/25\n",
      "5/5 [==============================] - 13s 3s/step - loss: 0.4931 - accuracy: 0.9737\n",
      "Epoch 21/25\n",
      "5/5 [==============================] - 13s 2s/step - loss: 0.4581 - accuracy: 0.9737\n",
      "Epoch 22/25\n",
      "5/5 [==============================] - 13s 3s/step - loss: 0.4257 - accuracy: 0.9737\n",
      "Epoch 23/25\n",
      "5/5 [==============================] - 12s 2s/step - loss: 0.3602 - accuracy: 0.9737\n",
      "Epoch 24/25\n",
      "5/5 [==============================] - 13s 3s/step - loss: 0.3143 - accuracy: 0.9868\n",
      "Epoch 25/25\n",
      "5/5 [==============================] - 13s 3s/step - loss: 0.2758 - accuracy: 0.9868\n"
     ]
    },
    {
     "data": {
      "text/plain": [
       "<keras.src.callbacks.History at 0x7fc9301bbd00>"
      ]
     },
     "execution_count": 17,
     "metadata": {},
     "output_type": "execute_result"
    }
   ],
   "source": [
    "embedding_dim = 100  # Dimension of word embeddings\n",
    "lstm_units = 512  # Number of LSTM units\n",
    "\n",
    "model = Sequential()\n",
    "model.add(Embedding(input_dim=max_words, output_dim=embedding_dim, input_length=max_len))\n",
    "model.add(LSTM(units=lstm_units, dropout=0.2, recurrent_dropout=0.2))\n",
    "model.add(Dense(1, activation='sigmoid'))\n",
    "\n",
    "model.compile(loss='binary_crossentropy', optimizer='adam', metrics=['accuracy'])\n",
    "model.fit(X_train_pad, y_train, epochs=25, batch_size=16)"
   ]
  },
  {
   "cell_type": "code",
   "execution_count": 18,
   "metadata": {},
   "outputs": [
    {
     "name": "stdout",
     "output_type": "stream",
     "text": [
      "1/1 [==============================] - 1s 611ms/step\n",
      "Classification Report:\n",
      "               precision    recall  f1-score   support\n",
      "\n",
      "           0       0.50      0.80      0.62         5\n",
      "           1       0.92      0.73      0.81        15\n",
      "\n",
      "    accuracy                           0.75        20\n",
      "   macro avg       0.71      0.77      0.72        20\n",
      "weighted avg       0.81      0.75      0.76        20\n",
      "\n",
      "Confusion Matrix:\n",
      " [[ 4  1]\n",
      " [ 4 11]]\n"
     ]
    },
    {
     "data": {
      "image/png": "[encoded data removed]",
      "text/plain": [
       "<Figure size 800x600 with 2 Axes>"
      ]
     },
     "metadata": {},
     "output_type": "display_data"
    }
   ],
   "source": [
    "y_pred_probs = model.predict(X_test_pad)\n",
    "y_pred = (y_pred_probs > 0.5).astype(int).flatten()\n",
    "\n",
    "print(\"Classification Report:\\n\", classification_report(y_test, y_pred))\n",
    "print(\"Confusion Matrix:\\n\", confusion_matrix(y_test, y_pred))\n",
    "\n",
    "# VISUALIZE CONFUSION MARTIX\n",
    "plt.figure(figsize=(8, 6))\n",
    "sns.heatmap(confusion_matrix(y_test, y_pred), annot=True, fmt=\"d\", cmap=\"Blues\",\n",
    "            xticklabels=le.classes_, yticklabels=le.classes_)\n",
    "plt.xlabel(\"Predicted\")\n",
    "plt.ylabel(\"Actual\")\n",
    "plt.title(\"Confusion Matrix\")\n",
    "plt.show()"
   ]
  },
  {
   "cell_type": "code",
   "execution_count": 19,
   "metadata": {},
   "outputs": [
    {
     "name": "stderr",
     "output_type": "stream",
     "text": [
      "/home/aneaser/DataScience/ds/lib/python3.10/site-packages/keras/src/engine/training.py:3103: UserWarning: You are saving your model as an HDF5 file via `model.save()`. This file format is considered legacy. We recommend using instead the native Keras format, e.g. `model.save('my_model.keras')`.\n",
      "  saving_api.save_model(\n"
     ]
    }
   ],
   "source": [
    "## save the model\n",
    "model.save('sentiment-analysis.h5')"
   ]
  },
  {
   "cell_type": "code",
   "execution_count": 26,
   "metadata": {},
   "outputs": [
    {
     "name": "stdout",
     "output_type": "stream",
     "text": [
      "WARNING:tensorflow:Layer lstm_1 will not use cuDNN kernels since it doesn't meet the criteria. It will use a generic GPU kernel as fallback when running on GPU.\n"
     ]
    },
    {
     "name": "stdout",
     "output_type": "stream",
     "text": [
      "1/1 [==============================] - 1s 584ms/step\n",
      "[1]\n"
     ]
    }
   ],
   "source": [
    "from tensorflow import keras\n",
    "\n",
    "loaded_model = keras.models.load_model('sentiment-analysis.h5')\n",
    "\n",
    "# Test the model\n",
    "test_sentence = \"I love this movie!\"\n",
    "test_sentence_seq = tokenizer.texts_to_sequences([test_sentence])\n",
    "test_sentence_pad = pad_sequences(test_sentence_seq, maxlen=max_len)\n",
    "\n",
    "y_pred_probs = loaded_model.predict(test_sentence_pad)\n",
    "y_pred = (y_pred_probs > 0.5).astype(int).flatten()\n",
    "print(y_pred)"
   ]
  },
  {
   "cell_type": "code",
   "execution_count": null,
   "metadata": {},
   "outputs": [],
   "source": []
  }
 ],
 "metadata": {
  "kernelspec": {
   "display_name": "ds",
   "language": "python",
   "name": "python3"
  },
  "language_info": {
   "codemirror_mode": {
    "name": "ipython",
    "version": 3
   },
   "file_extension": ".py",
   "mimetype": "text/x-python",
   "name": "python",
   "nbconvert_exporter": "python",
   "pygments_lexer": "ipython3",
   "version": "3.10.12"
  }
 },
 "nbformat": 4,
 "nbformat_minor": 2
}
