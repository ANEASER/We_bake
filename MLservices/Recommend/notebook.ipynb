{
 "cells": [
  {
   "cell_type": "code",
   "execution_count": 1,
   "metadata": {},
   "outputs": [],
   "source": [
    "import mysql.connector as mysql\n",
    "import pandas as pd\n",
    "import numpy as np"
   ]
  },
  {
   "cell_type": "code",
   "execution_count": 2,
   "metadata": {},
   "outputs": [],
   "source": [
    "connection = mysql.connect(host='localhost', user='root', password='', database='we bake')"
   ]
  },
  {
   "cell_type": "code",
   "execution_count": 3,
   "metadata": {},
   "outputs": [
    {
     "name": "stderr",
     "output_type": "stream",
     "text": [
      "C:\\Users\\anuda\\AppData\\Local\\Temp\\ipykernel_13908\\1296036662.py:2: UserWarning: pandas only supports SQLAlchemy connectable (engine/connection) or database string URI or sqlite3 DBAPI2 connection. Other DBAPI2 objects are not tested. Please consider using SQLAlchemy.\n",
      "  df = pd.read_sql(query, connection)\n"
     ]
    },
    {
     "data": {
      "text/html": [
       "<div>\n",
       "<style scoped>\n",
       "    .dataframe tbody tr th:only-of-type {\n",
       "        vertical-align: middle;\n",
       "    }\n",
       "\n",
       "    .dataframe tbody tr th {\n",
       "        vertical-align: top;\n",
       "    }\n",
       "\n",
       "    .dataframe thead th {\n",
       "        text-align: right;\n",
       "    }\n",
       "</style>\n",
       "<table border=\"1\" class=\"dataframe\">\n",
       "  <thead>\n",
       "    <tr style=\"text-align: right;\">\n",
       "      <th></th>\n",
       "      <th>itemid</th>\n",
       "      <th>retailprice</th>\n",
       "      <th>cost</th>\n",
       "      <th>itemdescription</th>\n",
       "      <th>itemname</th>\n",
       "      <th>unit</th>\n",
       "      <th>category</th>\n",
       "      <th>Itemcode</th>\n",
       "      <th>imagelink</th>\n",
       "      <th>availability</th>\n",
       "      <th>ipc</th>\n",
       "    </tr>\n",
       "  </thead>\n",
       "  <tbody>\n",
       "    <tr>\n",
       "      <th>0</th>\n",
       "      <td>53</td>\n",
       "      <td>170</td>\n",
       "      <td>110</td>\n",
       "      <td>Normal bread 450g</td>\n",
       "      <td>Bread(Normal)</td>\n",
       "      <td></td>\n",
       "      <td>Bread</td>\n",
       "      <td>BR00001</td>\n",
       "      <td>BR00001.jpeg</td>\n",
       "      <td>1</td>\n",
       "      <td>5</td>\n",
       "    </tr>\n",
       "    <tr>\n",
       "      <th>1</th>\n",
       "      <td>54</td>\n",
       "      <td>200</td>\n",
       "      <td>160</td>\n",
       "      <td>Sliced sandwich Bread</td>\n",
       "      <td>Sandwich Bread</td>\n",
       "      <td></td>\n",
       "      <td>Bread</td>\n",
       "      <td>BR00054</td>\n",
       "      <td>BR00054.jpeg</td>\n",
       "      <td>1</td>\n",
       "      <td>5</td>\n",
       "    </tr>\n",
       "    <tr>\n",
       "      <th>2</th>\n",
       "      <td>55</td>\n",
       "      <td>130</td>\n",
       "      <td>100</td>\n",
       "      <td>350g normal bread</td>\n",
       "      <td>Bread(Thin)</td>\n",
       "      <td></td>\n",
       "      <td>Bread</td>\n",
       "      <td>BR00055</td>\n",
       "      <td>BR00055.jpeg</td>\n",
       "      <td>1</td>\n",
       "      <td>2</td>\n",
       "    </tr>\n",
       "    <tr>\n",
       "      <th>3</th>\n",
       "      <td>56</td>\n",
       "      <td>120</td>\n",
       "      <td>90</td>\n",
       "      <td>Fish Pastrie</td>\n",
       "      <td>Fish Pastrie</td>\n",
       "      <td></td>\n",
       "      <td>Pastries</td>\n",
       "      <td>PA00056</td>\n",
       "      <td>PA00056.jpeg</td>\n",
       "      <td>1</td>\n",
       "      <td>5</td>\n",
       "    </tr>\n",
       "    <tr>\n",
       "      <th>4</th>\n",
       "      <td>57</td>\n",
       "      <td>150</td>\n",
       "      <td>100</td>\n",
       "      <td>Pastries Chicken</td>\n",
       "      <td>Chicken Pastries</td>\n",
       "      <td></td>\n",
       "      <td>Pastries</td>\n",
       "      <td>PA00057</td>\n",
       "      <td>PA00057.jpeg</td>\n",
       "      <td>1</td>\n",
       "      <td>5</td>\n",
       "    </tr>\n",
       "  </tbody>\n",
       "</table>\n",
       "</div>"
      ],
      "text/plain": [
       "   itemid  retailprice  cost        itemdescription          itemname unit  \\\n",
       "0      53          170   110      Normal bread 450g     Bread(Normal)        \n",
       "1      54          200   160  Sliced sandwich Bread    Sandwich Bread        \n",
       "2      55          130   100      350g normal bread       Bread(Thin)        \n",
       "3      56          120    90           Fish Pastrie      Fish Pastrie        \n",
       "4      57          150   100       Pastries Chicken  Chicken Pastries        \n",
       "\n",
       "   category Itemcode     imagelink  availability  ipc  \n",
       "0     Bread  BR00001  BR00001.jpeg             1    5  \n",
       "1     Bread  BR00054  BR00054.jpeg             1    5  \n",
       "2     Bread  BR00055  BR00055.jpeg             1    2  \n",
       "3  Pastries  PA00056  PA00056.jpeg             1    5  \n",
       "4  Pastries  PA00057  PA00057.jpeg             1    5  "
      ]
     },
     "execution_count": 3,
     "metadata": {},
     "output_type": "execute_result"
    }
   ],
   "source": [
    "query = \"SELECT * FROM productitem WHERE availability=1\"\n",
    "df = pd.read_sql(query, connection)\n",
    "df.head()"
   ]
  },
  {
   "cell_type": "code",
   "execution_count": 4,
   "metadata": {},
   "outputs": [
    {
     "data": {
      "text/html": [
       "<div>\n",
       "<style scoped>\n",
       "    .dataframe tbody tr th:only-of-type {\n",
       "        vertical-align: middle;\n",
       "    }\n",
       "\n",
       "    .dataframe tbody tr th {\n",
       "        vertical-align: top;\n",
       "    }\n",
       "\n",
       "    .dataframe thead th {\n",
       "        text-align: right;\n",
       "    }\n",
       "</style>\n",
       "<table border=\"1\" class=\"dataframe\">\n",
       "  <thead>\n",
       "    <tr style=\"text-align: right;\">\n",
       "      <th></th>\n",
       "      <th>itemid</th>\n",
       "      <th>itemdescription</th>\n",
       "      <th>itemname</th>\n",
       "      <th>category</th>\n",
       "    </tr>\n",
       "  </thead>\n",
       "  <tbody>\n",
       "    <tr>\n",
       "      <th>0</th>\n",
       "      <td>53</td>\n",
       "      <td>Normal bread 450g</td>\n",
       "      <td>Bread(Normal)</td>\n",
       "      <td>Bread</td>\n",
       "    </tr>\n",
       "    <tr>\n",
       "      <th>1</th>\n",
       "      <td>54</td>\n",
       "      <td>Sliced sandwich Bread</td>\n",
       "      <td>Sandwich Bread</td>\n",
       "      <td>Bread</td>\n",
       "    </tr>\n",
       "    <tr>\n",
       "      <th>2</th>\n",
       "      <td>55</td>\n",
       "      <td>350g normal bread</td>\n",
       "      <td>Bread(Thin)</td>\n",
       "      <td>Bread</td>\n",
       "    </tr>\n",
       "    <tr>\n",
       "      <th>3</th>\n",
       "      <td>56</td>\n",
       "      <td>Fish Pastrie</td>\n",
       "      <td>Fish Pastrie</td>\n",
       "      <td>Pastries</td>\n",
       "    </tr>\n",
       "    <tr>\n",
       "      <th>4</th>\n",
       "      <td>57</td>\n",
       "      <td>Pastries Chicken</td>\n",
       "      <td>Chicken Pastries</td>\n",
       "      <td>Pastries</td>\n",
       "    </tr>\n",
       "  </tbody>\n",
       "</table>\n",
       "</div>"
      ],
      "text/plain": [
       "   itemid        itemdescription          itemname  category\n",
       "0      53      Normal bread 450g     Bread(Normal)     Bread\n",
       "1      54  Sliced sandwich Bread    Sandwich Bread     Bread\n",
       "2      55      350g normal bread       Bread(Thin)     Bread\n",
       "3      56           Fish Pastrie      Fish Pastrie  Pastries\n",
       "4      57       Pastries Chicken  Chicken Pastries  Pastries"
      ]
     },
     "execution_count": 4,
     "metadata": {},
     "output_type": "execute_result"
    }
   ],
   "source": [
    "df = df[['itemid', 'itemdescription', 'itemname', 'category']]\n",
    "df.head()"
   ]
  },
  {
   "cell_type": "code",
   "execution_count": 5,
   "metadata": {},
   "outputs": [],
   "source": [
    "df[\"index\"] = df.index "
   ]
  },
  {
   "cell_type": "code",
   "execution_count": 6,
   "metadata": {},
   "outputs": [
    {
     "data": {
      "text/plain": [
       "(30, 5)"
      ]
     },
     "execution_count": 6,
     "metadata": {},
     "output_type": "execute_result"
    }
   ],
   "source": [
    "df.shape"
   ]
  },
  {
   "cell_type": "code",
   "execution_count": 7,
   "metadata": {},
   "outputs": [],
   "source": [
    "from sklearn.feature_extraction.text import CountVectorizer\n",
    "\n",
    "cv = CountVectorizer()\n",
    "\n",
    "def combine_features(row):\n",
    "    return row['itemdescription'] + ' ' + row['itemname'] + ' ' + row['category']"
   ]
  },
  {
   "cell_type": "code",
   "execution_count": 8,
   "metadata": {},
   "outputs": [],
   "source": [
    "df['combined_features'] = df.apply(combine_features, axis=1)"
   ]
  },
  {
   "cell_type": "code",
   "execution_count": 9,
   "metadata": {},
   "outputs": [],
   "source": [
    "from sklearn.metrics.pairwise import cosine_similarity\n",
    "\n",
    "\n",
    "count_matrix = cv.fit_transform(df['combined_features'])\n",
    "\n",
    "cosine_sim = cosine_similarity(count_matrix)"
   ]
  },
  {
   "cell_type": "code",
   "execution_count": 10,
   "metadata": {},
   "outputs": [
    {
     "data": {
      "text/plain": [
       "numpy.ndarray"
      ]
     },
     "execution_count": 10,
     "metadata": {},
     "output_type": "execute_result"
    }
   ],
   "source": [
    "type(cosine_sim)"
   ]
  },
  {
   "cell_type": "code",
   "execution_count": 11,
   "metadata": {},
   "outputs": [
    {
     "data": {
      "text/plain": [
       "(30, 30)"
      ]
     },
     "execution_count": 11,
     "metadata": {},
     "output_type": "execute_result"
    }
   ],
   "source": [
    "cosine_sim.shape"
   ]
  },
  {
   "cell_type": "code",
   "execution_count": 12,
   "metadata": {},
   "outputs": [],
   "source": [
    "def get_name_from_index(index):\n",
    "    return df[df.index\t == index][\"itemname\"].values[0]\n",
    "\n",
    "def get_index_from_name(itemname):\n",
    "    return df[df.itemname == itemname][\"index\"].values[0]"
   ]
  },
  {
   "cell_type": "code",
   "execution_count": 13,
   "metadata": {},
   "outputs": [
    {
     "data": {
      "text/plain": [
       "0"
      ]
     },
     "execution_count": 13,
     "metadata": {},
     "output_type": "execute_result"
    }
   ],
   "source": [
    "product_user_likes = \"Bread(Normal)\"\n",
    "product_index = get_index_from_name(product_user_likes)\n",
    "product_index"
   ]
  },
  {
   "cell_type": "code",
   "execution_count": 14,
   "metadata": {},
   "outputs": [
    {
     "name": "stdout",
     "output_type": "stream",
     "text": [
      "Bread(Normal)\n"
     ]
    }
   ],
   "source": [
    "product_name = get_name_from_index(0)\n",
    "print(product_name)"
   ]
  },
  {
   "cell_type": "code",
   "execution_count": 15,
   "metadata": {},
   "outputs": [],
   "source": [
    "similar_products = list(enumerate(cosine_sim[product_index]))"
   ]
  },
  {
   "cell_type": "code",
   "execution_count": 16,
   "metadata": {},
   "outputs": [
    {
     "name": "stdout",
     "output_type": "stream",
     "text": [
      "Top 5 similar prdocut to Bread(Normal) are:\n",
      "\n",
      "1 Sandwich Bread\n",
      "2 Bread(Thin)\n",
      "3 Fish Pastrie\n",
      "4 Chicken Pastries\n",
      "5 Vegi Pastries\n"
     ]
    }
   ],
   "source": [
    "sorted_similar_product = sorted(similar_products,key=lambda x:x[1],reverse=True)[1:]\n",
    "\n",
    "i=0\n",
    "print(\"Top 5 similar prdocut to \"+product_user_likes+\" are:\\n\")\n",
    "for element in similar_products:\n",
    "    element = get_name_from_index(element[0])\n",
    "    if element != product_user_likes:\n",
    "        print(i+1,element)\n",
    "        i=i+1\n",
    "        if i>4:\n",
    "            break"
   ]
  },
  {
   "cell_type": "code",
   "execution_count": 17,
   "metadata": {},
   "outputs": [
    {
     "name": "stdout",
     "output_type": "stream",
     "text": [
      "[[1.         0.64285714 0.84866842 0.         0.         0.\n",
      "  0.         0.         0.         0.         0.         0.\n",
      "  0.         0.         0.         0.         0.         0.\n",
      "  0.         0.         0.         0.         0.         0.\n",
      "  0.         0.         0.         0.         0.         0.        ]\n",
      " [0.64285714 1.         0.69436507 0.         0.         0.\n",
      "  0.         0.         0.         0.         0.         0.\n",
      "  0.         0.         0.         0.         0.         0.\n",
      "  0.         0.         0.         0.         0.         0.\n",
      "  0.         0.         0.         0.         0.         0.        ]\n",
      " [0.84866842 0.69436507 1.         0.         0.         0.\n",
      "  0.         0.         0.         0.         0.         0.\n",
      "  0.         0.         0.         0.         0.         0.\n",
      "  0.         0.         0.         0.         0.         0.\n",
      "  0.         0.         0.         0.         0.         0.        ]\n",
      " [0.         0.         0.         1.         0.2773501  0.30151134\n",
      "  0.         0.         0.         0.         0.         0.\n",
      "  0.         0.         0.         0.         0.         0.\n",
      "  0.44444444 0.         0.         0.         0.         0.\n",
      "  0.         0.         0.44444444 0.         0.         0.        ]\n",
      " [0.         0.         0.         0.2773501  1.         0.75261781\n",
      "  0.         0.         0.         0.         0.         0.\n",
      "  0.         0.         0.         0.         0.         0.\n",
      "  0.         0.36980013 0.         0.         0.30769231 0.\n",
      "  0.26906912 0.         0.         0.45291081 0.         0.        ]\n",
      " [0.         0.         0.         0.30151134 0.75261781 1.\n",
      "  0.         0.         0.         0.         0.         0.\n",
      "  0.         0.         0.         0.         0.         0.\n",
      "  0.         0.         0.         0.         0.         0.\n",
      "  0.         0.         0.         0.         0.         0.        ]\n",
      " [0.         0.         0.         0.         0.         0.\n",
      "  1.         0.69230769 0.69230769 0.38461538 0.69230769 0.46225016\n",
      "  0.36980013 0.         0.         0.30769231 0.         0.\n",
      "  0.         0.         0.         0.         0.         0.\n",
      "  0.         0.         0.         0.         0.         0.1754116 ]\n",
      " [0.         0.         0.         0.         0.         0.\n",
      "  0.69230769 1.         0.38461538 0.69230769 0.38461538 0.46225016\n",
      "  0.36980013 0.         0.         0.30769231 0.         0.\n",
      "  0.         0.         0.         0.         0.         0.\n",
      "  0.         0.         0.         0.         0.         0.1754116 ]\n",
      " [0.         0.         0.         0.         0.         0.\n",
      "  0.69230769 0.38461538 1.         0.38461538 0.69230769 0.46225016\n",
      "  0.         0.         0.         0.         0.         0.\n",
      "  0.         0.         0.         0.         0.         0.\n",
      "  0.         0.         0.         0.         0.         0.1754116 ]\n",
      " [0.         0.         0.         0.         0.         0.\n",
      "  0.38461538 0.69230769 0.38461538 1.         0.38461538 0.46225016\n",
      "  0.         0.         0.         0.         0.         0.\n",
      "  0.         0.         0.         0.         0.         0.\n",
      "  0.         0.         0.         0.         0.         0.1754116 ]\n",
      " [0.         0.         0.         0.         0.         0.\n",
      "  0.69230769 0.38461538 0.69230769 0.38461538 1.         0.46225016\n",
      "  0.         0.         0.         0.         0.         0.\n",
      "  0.         0.         0.         0.         0.         0.\n",
      "  0.         0.         0.         0.         0.         0.1754116 ]\n",
      " [0.         0.         0.         0.         0.         0.\n",
      "  0.46225016 0.46225016 0.46225016 0.46225016 0.46225016 1.\n",
      "  0.         0.         0.         0.         0.         0.\n",
      "  0.         0.         0.         0.         0.         0.36980013\n",
      "  0.         0.         0.         0.         0.         0.21081851]\n",
      " [0.         0.         0.         0.         0.         0.\n",
      "  0.36980013 0.36980013 0.         0.         0.         0.\n",
      "  1.         0.55555556 0.68041382 0.36980013 0.         0.\n",
      "  0.         0.         0.         0.         0.         0.\n",
      "  0.         0.         0.         0.         0.         0.        ]\n",
      " [0.         0.         0.         0.         0.         0.\n",
      "  0.         0.         0.         0.         0.         0.\n",
      "  0.55555556 1.         0.68041382 0.         0.         0.\n",
      "  0.         0.         0.         0.         0.         0.\n",
      "  0.         0.         0.         0.         0.         0.        ]\n",
      " [0.         0.         0.         0.         0.         0.\n",
      "  0.         0.         0.         0.         0.         0.\n",
      "  0.68041382 0.68041382 1.         0.         0.         0.\n",
      "  0.         0.         0.         0.         0.         0.\n",
      "  0.         0.         0.         0.         0.         0.        ]\n",
      " [0.         0.         0.         0.         0.         0.\n",
      "  0.30769231 0.30769231 0.         0.         0.         0.\n",
      "  0.36980013 0.         0.         1.         0.69230769 0.69230769\n",
      "  0.         0.         0.         0.         0.         0.\n",
      "  0.         0.         0.         0.         0.         0.        ]\n",
      " [0.         0.         0.         0.         0.         0.\n",
      "  0.         0.         0.         0.         0.         0.\n",
      "  0.         0.         0.         0.69230769 1.         0.69230769\n",
      "  0.         0.         0.         0.         0.         0.\n",
      "  0.         0.         0.         0.         0.         0.        ]\n",
      " [0.         0.         0.         0.         0.         0.\n",
      "  0.         0.         0.         0.         0.         0.\n",
      "  0.         0.         0.         0.69230769 0.69230769 1.\n",
      "  0.         0.         0.         0.         0.         0.\n",
      "  0.         0.         0.         0.         0.         0.        ]\n",
      " [0.         0.         0.         0.44444444 0.         0.\n",
      "  0.         0.         0.         0.         0.         0.\n",
      "  0.         0.         0.         0.         0.         0.\n",
      "  1.         0.55555556 0.55555556 0.55555556 0.         0.\n",
      "  0.         0.         0.44444444 0.         0.         0.        ]\n",
      " [0.         0.         0.         0.         0.36980013 0.\n",
      "  0.         0.         0.         0.         0.         0.\n",
      "  0.         0.         0.         0.         0.         0.\n",
      "  0.55555556 1.         0.55555556 0.55555556 0.36980013 0.\n",
      "  0.32338083 0.         0.         0.54433105 0.         0.        ]\n",
      " [0.         0.         0.         0.         0.         0.\n",
      "  0.         0.         0.         0.         0.         0.\n",
      "  0.         0.         0.         0.         0.         0.\n",
      "  0.55555556 0.55555556 1.         0.55555556 0.         0.\n",
      "  0.         0.25197632 0.         0.         0.         0.        ]\n",
      " [0.         0.         0.         0.         0.         0.\n",
      "  0.         0.         0.         0.         0.         0.\n",
      "  0.         0.         0.         0.         0.         0.\n",
      "  0.55555556 0.55555556 0.55555556 1.         0.         0.\n",
      "  0.         0.         0.         0.         0.         0.        ]\n",
      " [0.         0.         0.         0.         0.30769231 0.\n",
      "  0.         0.         0.         0.         0.         0.\n",
      "  0.         0.         0.         0.         0.         0.\n",
      "  0.         0.36980013 0.         0.         1.         0.69230769\n",
      "  0.87447463 0.6289709  0.         0.45291081 0.         0.        ]\n",
      " [0.         0.         0.         0.         0.         0.\n",
      "  0.         0.         0.         0.         0.         0.36980013\n",
      "  0.         0.         0.         0.         0.         0.\n",
      "  0.         0.         0.         0.         0.69230769 1.\n",
      "  0.60540551 0.6289709  0.         0.         0.         0.        ]\n",
      " [0.         0.         0.         0.         0.26906912 0.\n",
      "  0.         0.         0.         0.         0.         0.\n",
      "  0.         0.         0.         0.         0.         0.\n",
      "  0.         0.32338083 0.         0.         0.87447463 0.60540551\n",
      "  1.         0.5500191  0.         0.39605902 0.         0.        ]\n",
      " [0.         0.         0.         0.         0.         0.\n",
      "  0.         0.         0.         0.         0.         0.\n",
      "  0.         0.         0.         0.         0.         0.\n",
      "  0.         0.         0.25197632 0.         0.6289709  0.6289709\n",
      "  0.5500191  1.         0.         0.         0.         0.        ]\n",
      " [0.         0.         0.         0.44444444 0.         0.\n",
      "  0.         0.         0.         0.         0.         0.\n",
      "  0.         0.         0.         0.         0.         0.\n",
      "  0.44444444 0.         0.         0.         0.         0.\n",
      "  0.         0.         1.         0.40824829 0.68041382 0.        ]\n",
      " [0.         0.         0.         0.         0.45291081 0.\n",
      "  0.         0.         0.         0.         0.         0.\n",
      "  0.         0.         0.         0.         0.         0.\n",
      "  0.         0.54433105 0.         0.         0.45291081 0.\n",
      "  0.39605902 0.         0.40824829 1.         0.5        0.        ]\n",
      " [0.         0.         0.         0.         0.         0.\n",
      "  0.         0.         0.         0.         0.         0.\n",
      "  0.         0.         0.         0.         0.         0.\n",
      "  0.         0.         0.         0.         0.         0.\n",
      "  0.         0.         0.68041382 0.5        1.         0.        ]\n",
      " [0.         0.         0.         0.         0.         0.\n",
      "  0.1754116  0.1754116  0.1754116  0.1754116  0.1754116  0.21081851\n",
      "  0.         0.         0.         0.         0.         0.\n",
      "  0.         0.         0.         0.         0.         0.\n",
      "  0.         0.         0.         0.         0.         1.        ]]\n"
     ]
    }
   ],
   "source": [
    "print(cosine_sim)"
   ]
  },
  {
   "cell_type": "code",
   "execution_count": 18,
   "metadata": {},
   "outputs": [],
   "source": [
    "with open('output.txt', 'wb') as outfile:\n",
    "    np.save(outfile, cosine_sim)"
   ]
  },
  {
   "cell_type": "code",
   "execution_count": 19,
   "metadata": {},
   "outputs": [
    {
     "name": "stdout",
     "output_type": "stream",
     "text": [
      "[[1.         0.64285714 0.84866842 0.         0.         0.\n",
      "  0.         0.         0.         0.         0.         0.\n",
      "  0.         0.         0.         0.         0.         0.\n",
      "  0.         0.         0.         0.         0.         0.\n",
      "  0.         0.         0.         0.         0.         0.        ]\n",
      " [0.64285714 1.         0.69436507 0.         0.         0.\n",
      "  0.         0.         0.         0.         0.         0.\n",
      "  0.         0.         0.         0.         0.         0.\n",
      "  0.         0.         0.         0.         0.         0.\n",
      "  0.         0.         0.         0.         0.         0.        ]\n",
      " [0.84866842 0.69436507 1.         0.         0.         0.\n",
      "  0.         0.         0.         0.         0.         0.\n",
      "  0.         0.         0.         0.         0.         0.\n",
      "  0.         0.         0.         0.         0.         0.\n",
      "  0.         0.         0.         0.         0.         0.        ]\n",
      " [0.         0.         0.         1.         0.2773501  0.30151134\n",
      "  0.         0.         0.         0.         0.         0.\n",
      "  0.         0.         0.         0.         0.         0.\n",
      "  0.44444444 0.         0.         0.         0.         0.\n",
      "  0.         0.         0.44444444 0.         0.         0.        ]\n",
      " [0.         0.         0.         0.2773501  1.         0.75261781\n",
      "  0.         0.         0.         0.         0.         0.\n",
      "  0.         0.         0.         0.         0.         0.\n",
      "  0.         0.36980013 0.         0.         0.30769231 0.\n",
      "  0.26906912 0.         0.         0.45291081 0.         0.        ]\n",
      " [0.         0.         0.         0.30151134 0.75261781 1.\n",
      "  0.         0.         0.         0.         0.         0.\n",
      "  0.         0.         0.         0.         0.         0.\n",
      "  0.         0.         0.         0.         0.         0.\n",
      "  0.         0.         0.         0.         0.         0.        ]\n",
      " [0.         0.         0.         0.         0.         0.\n",
      "  1.         0.69230769 0.69230769 0.38461538 0.69230769 0.46225016\n",
      "  0.36980013 0.         0.         0.30769231 0.         0.\n",
      "  0.         0.         0.         0.         0.         0.\n",
      "  0.         0.         0.         0.         0.         0.1754116 ]\n",
      " [0.         0.         0.         0.         0.         0.\n",
      "  0.69230769 1.         0.38461538 0.69230769 0.38461538 0.46225016\n",
      "  0.36980013 0.         0.         0.30769231 0.         0.\n",
      "  0.         0.         0.         0.         0.         0.\n",
      "  0.         0.         0.         0.         0.         0.1754116 ]\n",
      " [0.         0.         0.         0.         0.         0.\n",
      "  0.69230769 0.38461538 1.         0.38461538 0.69230769 0.46225016\n",
      "  0.         0.         0.         0.         0.         0.\n",
      "  0.         0.         0.         0.         0.         0.\n",
      "  0.         0.         0.         0.         0.         0.1754116 ]\n",
      " [0.         0.         0.         0.         0.         0.\n",
      "  0.38461538 0.69230769 0.38461538 1.         0.38461538 0.46225016\n",
      "  0.         0.         0.         0.         0.         0.\n",
      "  0.         0.         0.         0.         0.         0.\n",
      "  0.         0.         0.         0.         0.         0.1754116 ]\n",
      " [0.         0.         0.         0.         0.         0.\n",
      "  0.69230769 0.38461538 0.69230769 0.38461538 1.         0.46225016\n",
      "  0.         0.         0.         0.         0.         0.\n",
      "  0.         0.         0.         0.         0.         0.\n",
      "  0.         0.         0.         0.         0.         0.1754116 ]\n",
      " [0.         0.         0.         0.         0.         0.\n",
      "  0.46225016 0.46225016 0.46225016 0.46225016 0.46225016 1.\n",
      "  0.         0.         0.         0.         0.         0.\n",
      "  0.         0.         0.         0.         0.         0.36980013\n",
      "  0.         0.         0.         0.         0.         0.21081851]\n",
      " [0.         0.         0.         0.         0.         0.\n",
      "  0.36980013 0.36980013 0.         0.         0.         0.\n",
      "  1.         0.55555556 0.68041382 0.36980013 0.         0.\n",
      "  0.         0.         0.         0.         0.         0.\n",
      "  0.         0.         0.         0.         0.         0.        ]\n",
      " [0.         0.         0.         0.         0.         0.\n",
      "  0.         0.         0.         0.         0.         0.\n",
      "  0.55555556 1.         0.68041382 0.         0.         0.\n",
      "  0.         0.         0.         0.         0.         0.\n",
      "  0.         0.         0.         0.         0.         0.        ]\n",
      " [0.         0.         0.         0.         0.         0.\n",
      "  0.         0.         0.         0.         0.         0.\n",
      "  0.68041382 0.68041382 1.         0.         0.         0.\n",
      "  0.         0.         0.         0.         0.         0.\n",
      "  0.         0.         0.         0.         0.         0.        ]\n",
      " [0.         0.         0.         0.         0.         0.\n",
      "  0.30769231 0.30769231 0.         0.         0.         0.\n",
      "  0.36980013 0.         0.         1.         0.69230769 0.69230769\n",
      "  0.         0.         0.         0.         0.         0.\n",
      "  0.         0.         0.         0.         0.         0.        ]\n",
      " [0.         0.         0.         0.         0.         0.\n",
      "  0.         0.         0.         0.         0.         0.\n",
      "  0.         0.         0.         0.69230769 1.         0.69230769\n",
      "  0.         0.         0.         0.         0.         0.\n",
      "  0.         0.         0.         0.         0.         0.        ]\n",
      " [0.         0.         0.         0.         0.         0.\n",
      "  0.         0.         0.         0.         0.         0.\n",
      "  0.         0.         0.         0.69230769 0.69230769 1.\n",
      "  0.         0.         0.         0.         0.         0.\n",
      "  0.         0.         0.         0.         0.         0.        ]\n",
      " [0.         0.         0.         0.44444444 0.         0.\n",
      "  0.         0.         0.         0.         0.         0.\n",
      "  0.         0.         0.         0.         0.         0.\n",
      "  1.         0.55555556 0.55555556 0.55555556 0.         0.\n",
      "  0.         0.         0.44444444 0.         0.         0.        ]\n",
      " [0.         0.         0.         0.         0.36980013 0.\n",
      "  0.         0.         0.         0.         0.         0.\n",
      "  0.         0.         0.         0.         0.         0.\n",
      "  0.55555556 1.         0.55555556 0.55555556 0.36980013 0.\n",
      "  0.32338083 0.         0.         0.54433105 0.         0.        ]\n",
      " [0.         0.         0.         0.         0.         0.\n",
      "  0.         0.         0.         0.         0.         0.\n",
      "  0.         0.         0.         0.         0.         0.\n",
      "  0.55555556 0.55555556 1.         0.55555556 0.         0.\n",
      "  0.         0.25197632 0.         0.         0.         0.        ]\n",
      " [0.         0.         0.         0.         0.         0.\n",
      "  0.         0.         0.         0.         0.         0.\n",
      "  0.         0.         0.         0.         0.         0.\n",
      "  0.55555556 0.55555556 0.55555556 1.         0.         0.\n",
      "  0.         0.         0.         0.         0.         0.        ]\n",
      " [0.         0.         0.         0.         0.30769231 0.\n",
      "  0.         0.         0.         0.         0.         0.\n",
      "  0.         0.         0.         0.         0.         0.\n",
      "  0.         0.36980013 0.         0.         1.         0.69230769\n",
      "  0.87447463 0.6289709  0.         0.45291081 0.         0.        ]\n",
      " [0.         0.         0.         0.         0.         0.\n",
      "  0.         0.         0.         0.         0.         0.36980013\n",
      "  0.         0.         0.         0.         0.         0.\n",
      "  0.         0.         0.         0.         0.69230769 1.\n",
      "  0.60540551 0.6289709  0.         0.         0.         0.        ]\n",
      " [0.         0.         0.         0.         0.26906912 0.\n",
      "  0.         0.         0.         0.         0.         0.\n",
      "  0.         0.         0.         0.         0.         0.\n",
      "  0.         0.32338083 0.         0.         0.87447463 0.60540551\n",
      "  1.         0.5500191  0.         0.39605902 0.         0.        ]\n",
      " [0.         0.         0.         0.         0.         0.\n",
      "  0.         0.         0.         0.         0.         0.\n",
      "  0.         0.         0.         0.         0.         0.\n",
      "  0.         0.         0.25197632 0.         0.6289709  0.6289709\n",
      "  0.5500191  1.         0.         0.         0.         0.        ]\n",
      " [0.         0.         0.         0.44444444 0.         0.\n",
      "  0.         0.         0.         0.         0.         0.\n",
      "  0.         0.         0.         0.         0.         0.\n",
      "  0.44444444 0.         0.         0.         0.         0.\n",
      "  0.         0.         1.         0.40824829 0.68041382 0.        ]\n",
      " [0.         0.         0.         0.         0.45291081 0.\n",
      "  0.         0.         0.         0.         0.         0.\n",
      "  0.         0.         0.         0.         0.         0.\n",
      "  0.         0.54433105 0.         0.         0.45291081 0.\n",
      "  0.39605902 0.         0.40824829 1.         0.5        0.        ]\n",
      " [0.         0.         0.         0.         0.         0.\n",
      "  0.         0.         0.         0.         0.         0.\n",
      "  0.         0.         0.         0.         0.         0.\n",
      "  0.         0.         0.         0.         0.         0.\n",
      "  0.         0.         0.68041382 0.5        1.         0.        ]\n",
      " [0.         0.         0.         0.         0.         0.\n",
      "  0.1754116  0.1754116  0.1754116  0.1754116  0.1754116  0.21081851\n",
      "  0.         0.         0.         0.         0.         0.\n",
      "  0.         0.         0.         0.         0.         0.\n",
      "  0.         0.         0.         0.         0.         1.        ]]\n"
     ]
    }
   ],
   "source": [
    "cosine_sim_loaded = np.load('output.txt')\n",
    "print(cosine_sim_loaded)"
   ]
  },
  {
   "cell_type": "code",
   "execution_count": 20,
   "metadata": {},
   "outputs": [
    {
     "name": "stdout",
     "output_type": "stream",
     "text": [
      "Top 5 similar prdocut to Bread(Normal) are:\n",
      "\n",
      "1 Sandwich Bread\n",
      "2 Bread(Thin)\n",
      "3 Fish Pastrie\n",
      "4 Chicken Pastries\n",
      "5 Vegi Pastries\n"
     ]
    }
   ],
   "source": [
    "similar_products_loaded = list(enumerate(cosine_sim_loaded[product_index]))\n",
    "\n",
    "sorted_similar_product = sorted(similar_products_loaded,key=lambda x:x[1],reverse=True)[1:]\n",
    "\n",
    "i=0\n",
    "print(\"Top 5 similar prdocut to \"+product_user_likes+\" are:\\n\")\n",
    "for element in similar_products:\n",
    "    element = get_name_from_index(element[0])\n",
    "    if element != product_user_likes:\n",
    "        print(i+1,element)\n",
    "        i=i+1\n",
    "        if i>4:\n",
    "            break"
   ]
  }
 ],
 "metadata": {
  "kernelspec": {
   "display_name": "ds",
   "language": "python",
   "name": "python3"
  },
  "language_info": {
   "codemirror_mode": {
    "name": "ipython",
    "version": 3
   },
   "file_extension": ".py",
   "mimetype": "text/x-python",
   "name": "python",
   "nbconvert_exporter": "python",
   "pygments_lexer": "ipython3",
   "version": "3.12.0"
  }
 },
 "nbformat": 4,
 "nbformat_minor": 2
}
